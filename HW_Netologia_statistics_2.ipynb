{
  "nbformat": 4,
  "nbformat_minor": 0,
  "metadata": {
    "colab": {
      "provenance": [],
      "authorship_tag": "ABX9TyPO4aPnSHXIrsY6QMwdX/Rd",
      "include_colab_link": true
    },
    "kernelspec": {
      "name": "python3",
      "display_name": "Python 3"
    },
    "language_info": {
      "name": "python"
    }
  },
  "cells": [
    {
      "cell_type": "markdown",
      "metadata": {
        "id": "view-in-github",
        "colab_type": "text"
      },
      "source": [
        "<a href=\"https://colab.research.google.com/github/LightenCooper/data_visualization/blob/main/HW_Netologia_statistics_2.ipynb\" target=\"_parent\"><img src=\"https://colab.research.google.com/assets/colab-badge.svg\" alt=\"Open In Colab\"/></a>"
      ]
    },
    {
      "cell_type": "markdown",
      "source": [
        "# Задание\n",
        "**Обязательная часть**\n",
        "\n",
        "Вам необходимо провести базовый EDA выбранного набора данных.\n",
        "\n",
        "Требования к анализу:\n",
        "\n",
        "построить не менее 4 визуализаций различных видов;\n",
        "каждая визуализация должным образом оформлена и читается даже в отрыве от контекста;\n",
        "по каждой визуализации необходимо написать вывод (какую гипотезу на ее основе можно выдвинуть?)."
      ],
      "metadata": {
        "id": "7SylUS6Sn56Z"
      }
    },
    {
      "cell_type": "markdown",
      "source": [
        "Импортируем необходимые библиотеки"
      ],
      "metadata": {
        "id": "gX1QDzDTFJ7q"
      }
    },
    {
      "cell_type": "code",
      "execution_count": null,
      "metadata": {
        "id": "JiiZOxLUFi2y"
      },
      "outputs": [],
      "source": [
        "import matplotlib.pyplot as plt\n",
        "import pandas as pd\n",
        "import numpy as np\n",
        "import seaborn as sns"
      ]
    },
    {
      "cell_type": "markdown",
      "source": [
        "Мною был выбран датасет с ценами на БикМак по странам за период с 01.01.2000 по 31.12.2022.\n",
        "Индекс бигмака основан на теории паритета покупательной способности, по которой валютный курс должен уравнивать стоимость корзины товаров в разных странах (то есть отношение обменных валютных курсов), только вместо корзины берется один стандартный бургер, выпускаемый компанией McDonald’s повсеместно.\n",
        "\n",
        "Попробуем рассмотреть динамику цен за 22 года, сравним стоимость по странам и годам."
      ],
      "metadata": {
        "id": "4LvGPgd2xD76"
      }
    },
    {
      "cell_type": "markdown",
      "source": [
        "**Дополнительная часть (необязательная)**\n",
        "\n",
        "построить дополнительно не менее 2 визуализаций (итого не менее 6);\n",
        "\n",
        "в работе должны присутствовать следующие визуализации: *boxplot*, heatmap,\n",
        "scatter plot matrix;"
      ],
      "metadata": {
        "id": "wftiBWDoojTo"
      }
    },
    {
      "cell_type": "markdown",
      "source": [
        "**Для начала прочитаем датасет**"
      ],
      "metadata": {
        "id": "EBpnFOOpFFhR"
      }
    },
    {
      "cell_type": "code",
      "source": [
        "df = pd.read_csv('https://raw.githubusercontent.com/LightenCooper/data_visualization/main/BigmacPrice.csv', header=0, names=['date', 'currency_code', 'country', 'local_price', 'dollar_ex',\n",
        "       'dollar_price'])\n",
        "df.head()"
      ],
      "metadata": {
        "colab": {
          "base_uri": "https://localhost:8080/",
          "height": 206
        },
        "id": "uMdPU2LAF1rp",
        "outputId": "cdf0ae94-25c2-4f41-e7ab-ae23099ec8fd"
      },
      "execution_count": null,
      "outputs": [
        {
          "output_type": "execute_result",
          "data": {
            "text/plain": [
              "         date currency_code    country  local_price  dollar_ex  dollar_price\n",
              "0  2000-04-01           ARS  Argentina         2.50          1          2.50\n",
              "1  2000-04-01           AUD  Australia         2.59          1          2.59\n",
              "2  2000-04-01           BRL     Brazil         2.95          1          2.95\n",
              "3  2000-04-01           GBP    Britain         1.90          1          1.90\n",
              "4  2000-04-01           CAD     Canada         2.85          1          2.85"
            ],
            "text/html": [
              "\n",
              "  <div id=\"df-262d0b08-3e55-4a6b-a62a-e7a5ed20f0bc\">\n",
              "    <div class=\"colab-df-container\">\n",
              "      <div>\n",
              "<style scoped>\n",
              "    .dataframe tbody tr th:only-of-type {\n",
              "        vertical-align: middle;\n",
              "    }\n",
              "\n",
              "    .dataframe tbody tr th {\n",
              "        vertical-align: top;\n",
              "    }\n",
              "\n",
              "    .dataframe thead th {\n",
              "        text-align: right;\n",
              "    }\n",
              "</style>\n",
              "<table border=\"1\" class=\"dataframe\">\n",
              "  <thead>\n",
              "    <tr style=\"text-align: right;\">\n",
              "      <th></th>\n",
              "      <th>date</th>\n",
              "      <th>currency_code</th>\n",
              "      <th>country</th>\n",
              "      <th>local_price</th>\n",
              "      <th>dollar_ex</th>\n",
              "      <th>dollar_price</th>\n",
              "    </tr>\n",
              "  </thead>\n",
              "  <tbody>\n",
              "    <tr>\n",
              "      <th>0</th>\n",
              "      <td>2000-04-01</td>\n",
              "      <td>ARS</td>\n",
              "      <td>Argentina</td>\n",
              "      <td>2.50</td>\n",
              "      <td>1</td>\n",
              "      <td>2.50</td>\n",
              "    </tr>\n",
              "    <tr>\n",
              "      <th>1</th>\n",
              "      <td>2000-04-01</td>\n",
              "      <td>AUD</td>\n",
              "      <td>Australia</td>\n",
              "      <td>2.59</td>\n",
              "      <td>1</td>\n",
              "      <td>2.59</td>\n",
              "    </tr>\n",
              "    <tr>\n",
              "      <th>2</th>\n",
              "      <td>2000-04-01</td>\n",
              "      <td>BRL</td>\n",
              "      <td>Brazil</td>\n",
              "      <td>2.95</td>\n",
              "      <td>1</td>\n",
              "      <td>2.95</td>\n",
              "    </tr>\n",
              "    <tr>\n",
              "      <th>3</th>\n",
              "      <td>2000-04-01</td>\n",
              "      <td>GBP</td>\n",
              "      <td>Britain</td>\n",
              "      <td>1.90</td>\n",
              "      <td>1</td>\n",
              "      <td>1.90</td>\n",
              "    </tr>\n",
              "    <tr>\n",
              "      <th>4</th>\n",
              "      <td>2000-04-01</td>\n",
              "      <td>CAD</td>\n",
              "      <td>Canada</td>\n",
              "      <td>2.85</td>\n",
              "      <td>1</td>\n",
              "      <td>2.85</td>\n",
              "    </tr>\n",
              "  </tbody>\n",
              "</table>\n",
              "</div>\n",
              "      <button class=\"colab-df-convert\" onclick=\"convertToInteractive('df-262d0b08-3e55-4a6b-a62a-e7a5ed20f0bc')\"\n",
              "              title=\"Convert this dataframe to an interactive table.\"\n",
              "              style=\"display:none;\">\n",
              "        \n",
              "  <svg xmlns=\"http://www.w3.org/2000/svg\" height=\"24px\"viewBox=\"0 0 24 24\"\n",
              "       width=\"24px\">\n",
              "    <path d=\"M0 0h24v24H0V0z\" fill=\"none\"/>\n",
              "    <path d=\"M18.56 5.44l.94 2.06.94-2.06 2.06-.94-2.06-.94-.94-2.06-.94 2.06-2.06.94zm-11 1L8.5 8.5l.94-2.06 2.06-.94-2.06-.94L8.5 2.5l-.94 2.06-2.06.94zm10 10l.94 2.06.94-2.06 2.06-.94-2.06-.94-.94-2.06-.94 2.06-2.06.94z\"/><path d=\"M17.41 7.96l-1.37-1.37c-.4-.4-.92-.59-1.43-.59-.52 0-1.04.2-1.43.59L10.3 9.45l-7.72 7.72c-.78.78-.78 2.05 0 2.83L4 21.41c.39.39.9.59 1.41.59.51 0 1.02-.2 1.41-.59l7.78-7.78 2.81-2.81c.8-.78.8-2.07 0-2.86zM5.41 20L4 18.59l7.72-7.72 1.47 1.35L5.41 20z\"/>\n",
              "  </svg>\n",
              "      </button>\n",
              "      \n",
              "  <style>\n",
              "    .colab-df-container {\n",
              "      display:flex;\n",
              "      flex-wrap:wrap;\n",
              "      gap: 12px;\n",
              "    }\n",
              "\n",
              "    .colab-df-convert {\n",
              "      background-color: #E8F0FE;\n",
              "      border: none;\n",
              "      border-radius: 50%;\n",
              "      cursor: pointer;\n",
              "      display: none;\n",
              "      fill: #1967D2;\n",
              "      height: 32px;\n",
              "      padding: 0 0 0 0;\n",
              "      width: 32px;\n",
              "    }\n",
              "\n",
              "    .colab-df-convert:hover {\n",
              "      background-color: #E2EBFA;\n",
              "      box-shadow: 0px 1px 2px rgba(60, 64, 67, 0.3), 0px 1px 3px 1px rgba(60, 64, 67, 0.15);\n",
              "      fill: #174EA6;\n",
              "    }\n",
              "\n",
              "    [theme=dark] .colab-df-convert {\n",
              "      background-color: #3B4455;\n",
              "      fill: #D2E3FC;\n",
              "    }\n",
              "\n",
              "    [theme=dark] .colab-df-convert:hover {\n",
              "      background-color: #434B5C;\n",
              "      box-shadow: 0px 1px 3px 1px rgba(0, 0, 0, 0.15);\n",
              "      filter: drop-shadow(0px 1px 2px rgba(0, 0, 0, 0.3));\n",
              "      fill: #FFFFFF;\n",
              "    }\n",
              "  </style>\n",
              "\n",
              "      <script>\n",
              "        const buttonEl =\n",
              "          document.querySelector('#df-262d0b08-3e55-4a6b-a62a-e7a5ed20f0bc button.colab-df-convert');\n",
              "        buttonEl.style.display =\n",
              "          google.colab.kernel.accessAllowed ? 'block' : 'none';\n",
              "\n",
              "        async function convertToInteractive(key) {\n",
              "          const element = document.querySelector('#df-262d0b08-3e55-4a6b-a62a-e7a5ed20f0bc');\n",
              "          const dataTable =\n",
              "            await google.colab.kernel.invokeFunction('convertToInteractive',\n",
              "                                                     [key], {});\n",
              "          if (!dataTable) return;\n",
              "\n",
              "          const docLinkHtml = 'Like what you see? Visit the ' +\n",
              "            '<a target=\"_blank\" href=https://colab.research.google.com/notebooks/data_table.ipynb>data table notebook</a>'\n",
              "            + ' to learn more about interactive tables.';\n",
              "          element.innerHTML = '';\n",
              "          dataTable['output_type'] = 'display_data';\n",
              "          await google.colab.output.renderOutput(dataTable, element);\n",
              "          const docLink = document.createElement('div');\n",
              "          docLink.innerHTML = docLinkHtml;\n",
              "          element.appendChild(docLink);\n",
              "        }\n",
              "      </script>\n",
              "    </div>\n",
              "  </div>\n",
              "  "
            ]
          },
          "metadata": {},
          "execution_count": 2
        }
      ]
    },
    {
      "cell_type": "code",
      "source": [
        "df.info()"
      ],
      "metadata": {
        "colab": {
          "base_uri": "https://localhost:8080/"
        },
        "id": "q2Q1oTMcoSdH",
        "outputId": "b70c5b4f-4d75-43b1-ae95-703c5162de9d"
      },
      "execution_count": null,
      "outputs": [
        {
          "output_type": "stream",
          "name": "stdout",
          "text": [
            "<class 'pandas.core.frame.DataFrame'>\n",
            "RangeIndex: 1946 entries, 0 to 1945\n",
            "Data columns (total 6 columns):\n",
            " #   Column         Non-Null Count  Dtype  \n",
            "---  ------         --------------  -----  \n",
            " 0   date           1946 non-null   object \n",
            " 1   currency_code  1946 non-null   object \n",
            " 2   country        1946 non-null   object \n",
            " 3   local_price    1946 non-null   float64\n",
            " 4   dollar_ex      1946 non-null   int64  \n",
            " 5   dollar_price   1946 non-null   float64\n",
            "dtypes: float64(2), int64(1), object(3)\n",
            "memory usage: 91.3+ KB\n"
          ]
        }
      ]
    },
    {
      "cell_type": "markdown",
      "source": [
        "Датафрейм состоит из 6 столбцов и 1946 строк.\n",
        "Столбцы:\n",
        "\n",
        "\n",
        "*   Дата\n",
        "*   Код валюты\n",
        "*   Страна\n",
        "*   Цена в валюте страны\n",
        "*   Курс доллара\n",
        "*   Цена в долларовом эквиваленте\n",
        "\n",
        "Пропущенных значений нет"
      ],
      "metadata": {
        "id": "lpbt4dRWvSmU"
      }
    },
    {
      "cell_type": "markdown",
      "source": [
        "**Посмотрим, по каким странам представлены данные в датафрейме:**"
      ],
      "metadata": {
        "id": "gTnTYCb3vFY4"
      }
    },
    {
      "cell_type": "code",
      "source": [
        "print(len(df['country'].unique()), df['country'].unique(), sep='\\n')"
      ],
      "metadata": {
        "colab": {
          "base_uri": "https://localhost:8080/"
        },
        "id": "6bs16NPH0AST",
        "outputId": "dfbe1493-cbdb-4f63-8b23-373f74079562"
      },
      "execution_count": null,
      "outputs": [
        {
          "output_type": "stream",
          "name": "stdout",
          "text": [
            "74\n",
            "['Argentina' 'Australia' 'Brazil' 'Britain' 'Canada' 'Chile' 'China'\n",
            " 'Czech Republic' 'Denmark' 'Euro area' 'Hong Kong' 'Hungary' 'Indonesia'\n",
            " 'Israel' 'Japan' 'Malaysia' 'Mexico' 'New Zealand' 'Poland' 'Russia'\n",
            " 'Singapore' 'South Africa' 'South Korea' 'Sweden' 'Switzerland' 'Taiwan'\n",
            " 'Thailand' 'United States' 'Philippines' 'Norway' 'Peru' 'Turkey'\n",
            " 'Venezuela' 'Egypt' 'Colombia' 'Costa Rica' 'Pakistan' 'Saudi Arabia'\n",
            " 'Sri Lanka' 'Ukraine' 'Uruguay' 'UAE' 'Austria' 'Belgium' 'Estonia'\n",
            " 'Finland' 'France' 'Germany' 'Greece' 'India' 'Ireland' 'Italy'\n",
            " 'Netherlands' 'Portugal' 'Spain' 'Lithuania' 'Vietnam' 'Azerbaijan'\n",
            " 'Bahrain' 'Croatia' 'Guatemala' 'Honduras' 'Jordan' 'Kuwait' 'Latvia'\n",
            " 'Lebanon' 'Moldova' 'Nicaragua' 'Oman' 'Qatar' 'Romania' 'Slovakia'\n",
            " 'Slovenia' 'United Arab Emirates']\n"
          ]
        }
      ]
    },
    {
      "cell_type": "markdown",
      "source": [
        "Видим, что ОАЭ встречается дважды, как 'UAE', и как 'United Arab Emirates'. Исправим."
      ],
      "metadata": {
        "id": "2y0saSm01CsG"
      }
    },
    {
      "cell_type": "code",
      "source": [
        "df['country'] = df['country'].str.replace('UAE', 'United Arab Emirates')"
      ],
      "metadata": {
        "id": "T0jBIms34yHN"
      },
      "execution_count": null,
      "outputs": []
    },
    {
      "cell_type": "markdown",
      "source": [
        "**Посмотрим динамику цен за все время. Для удобства обединим страны в части света и создадим столбец год (`\"year\"`)**"
      ],
      "metadata": {
        "id": "tfMUdfnf5zuv"
      }
    },
    {
      "cell_type": "code",
      "source": [
        "continent = {'Argentina': 'South America',\n",
        "             'Austria': 'Europe',\n",
        "             'Australia': 'Oceania/S. Africa',\n",
        "             'Belgium': 'Europe',\n",
        "             'Bahrain': 'Middle East',\n",
        "             'Brazil': 'South America',\n",
        "             'Canada': 'North America',\n",
        "             'Switzerland': 'Europe',\n",
        "             'Chile': 'South America',\n",
        "             'China': 'East Asia',\n",
        "             'India': 'South Asia',\n",
        "             'Vietnam': 'South Asia',\n",
        "             'Jordan': 'Middle East',\n",
        "             'Kuwait': 'Middle East',\n",
        "             'Oman': 'Middle East',\n",
        "             'Qatar': 'Middle East',\n",
        "             'Lebanon': 'Middle East',\n",
        "             'Czech Republic': 'Europe',\n",
        "             'Lithuania': 'Europe',\n",
        "             'Croatia': 'Europe',\n",
        "             'Azerbaijan': 'Europe',\n",
        "             'Latvia': 'Europe',\n",
        "             'Moldova': 'Europe',\n",
        "             'Slovenia': 'Europe',\n",
        "             'Slovakia': 'Europe',\n",
        "             'Romania': 'Europe',\n",
        "             'Denmark': 'Europe',\n",
        "             'Euro area': 'Europe',\n",
        "             'Estonia': 'Europe',\n",
        "             'France': 'Europe',\n",
        "             'Finland': 'Europe',\n",
        "             'Britain': 'Europe',\n",
        "             'Hong Kong': 'East Asia',\n",
        "             'Hungary': 'Europe',\n",
        "             'Indonesia': 'South Asia',\n",
        "             'Israel': 'Middle East',\n",
        "             'Germany': 'Europe',\n",
        "             'Greece': 'Europe',\n",
        "             'Ireland': 'Europe',\n",
        "             'Italy': 'Europe',\n",
        "             'Netherlands': 'Europe',\n",
        "             'Portugal': 'Europe',\n",
        "             'Spain': 'Europe',\n",
        "             'Japan': 'East Asia',\n",
        "             'South Korea': 'East Asia',\n",
        "             'Mexico': 'North America',\n",
        "             'Malaysia': 'South Asia',\n",
        "             'New Zealand': 'Oceania/S. Africa',\n",
        "             'Poland': 'Europe',\n",
        "             'Russia': 'Europe',\n",
        "             'Sweden': 'Europe',\n",
        "             'Switzerland': 'Europe',\n",
        "             'Singapore': 'South Asia',\n",
        "             'Thailand': 'South Asia',\n",
        "             'Taiwan': 'East Asia',\n",
        "             'United States': 'North America',\n",
        "             'South Africa': 'Oceania/S. Africa',\n",
        "             'Philippines': 'East Asia',\n",
        "             'Norway': 'Europe',\n",
        "             'Peru': 'South America',\n",
        "             'Turkey': 'Middle East',\n",
        "             'Egypt': 'Middle East',\n",
        "             'Colombia': 'South America',\n",
        "             'Costa Rica': 'North America',\n",
        "             'Sri Lanka': 'South Asia',\n",
        "             'Pakistan': 'Middle East',\n",
        "             'Saudi Arabia': 'Middle East',\n",
        "             'Ukraine': 'Europe',\n",
        "             'Uruguay': 'South America',\n",
        "             'United Arab Emirates': 'Middle East',\n",
        "             'Venezuela': 'South America',\n",
        "             'Guatemala': 'South America',\n",
        "             'Honduras': 'South America',\n",
        "             'Nicaragua': 'South America'\n",
        "             }"
      ],
      "metadata": {
        "id": "9V0clphG9Rgi"
      },
      "execution_count": null,
      "outputs": []
    },
    {
      "cell_type": "markdown",
      "source": [
        "**Сгруппируем данные по частям света**"
      ],
      "metadata": {
        "id": "GNQucaonFY38"
      }
    },
    {
      "cell_type": "code",
      "source": [
        "df['continent'] = df.country.map(continent)\n",
        "country_count = df.groupby('continent')['country'].nunique().reset_index()\n",
        "country_count"
      ],
      "metadata": {
        "colab": {
          "base_uri": "https://localhost:8080/",
          "height": 269
        },
        "id": "vY60CeqB9tSI",
        "outputId": "eef9be59-eea0-43fe-8b4a-d7d54f3ef6e1"
      },
      "execution_count": null,
      "outputs": [
        {
          "output_type": "execute_result",
          "data": {
            "text/plain": [
              "           continent  country\n",
              "0          East Asia        6\n",
              "1             Europe       31\n",
              "2        Middle East       12\n",
              "3      North America        4\n",
              "4  Oceania/S. Africa        3\n",
              "5      South America       10\n",
              "6         South Asia        7"
            ],
            "text/html": [
              "\n",
              "  <div id=\"df-12366959-b10f-4abd-9a18-590353843b3e\">\n",
              "    <div class=\"colab-df-container\">\n",
              "      <div>\n",
              "<style scoped>\n",
              "    .dataframe tbody tr th:only-of-type {\n",
              "        vertical-align: middle;\n",
              "    }\n",
              "\n",
              "    .dataframe tbody tr th {\n",
              "        vertical-align: top;\n",
              "    }\n",
              "\n",
              "    .dataframe thead th {\n",
              "        text-align: right;\n",
              "    }\n",
              "</style>\n",
              "<table border=\"1\" class=\"dataframe\">\n",
              "  <thead>\n",
              "    <tr style=\"text-align: right;\">\n",
              "      <th></th>\n",
              "      <th>continent</th>\n",
              "      <th>country</th>\n",
              "    </tr>\n",
              "  </thead>\n",
              "  <tbody>\n",
              "    <tr>\n",
              "      <th>0</th>\n",
              "      <td>East Asia</td>\n",
              "      <td>6</td>\n",
              "    </tr>\n",
              "    <tr>\n",
              "      <th>1</th>\n",
              "      <td>Europe</td>\n",
              "      <td>31</td>\n",
              "    </tr>\n",
              "    <tr>\n",
              "      <th>2</th>\n",
              "      <td>Middle East</td>\n",
              "      <td>12</td>\n",
              "    </tr>\n",
              "    <tr>\n",
              "      <th>3</th>\n",
              "      <td>North America</td>\n",
              "      <td>4</td>\n",
              "    </tr>\n",
              "    <tr>\n",
              "      <th>4</th>\n",
              "      <td>Oceania/S. Africa</td>\n",
              "      <td>3</td>\n",
              "    </tr>\n",
              "    <tr>\n",
              "      <th>5</th>\n",
              "      <td>South America</td>\n",
              "      <td>10</td>\n",
              "    </tr>\n",
              "    <tr>\n",
              "      <th>6</th>\n",
              "      <td>South Asia</td>\n",
              "      <td>7</td>\n",
              "    </tr>\n",
              "  </tbody>\n",
              "</table>\n",
              "</div>\n",
              "      <button class=\"colab-df-convert\" onclick=\"convertToInteractive('df-12366959-b10f-4abd-9a18-590353843b3e')\"\n",
              "              title=\"Convert this dataframe to an interactive table.\"\n",
              "              style=\"display:none;\">\n",
              "        \n",
              "  <svg xmlns=\"http://www.w3.org/2000/svg\" height=\"24px\"viewBox=\"0 0 24 24\"\n",
              "       width=\"24px\">\n",
              "    <path d=\"M0 0h24v24H0V0z\" fill=\"none\"/>\n",
              "    <path d=\"M18.56 5.44l.94 2.06.94-2.06 2.06-.94-2.06-.94-.94-2.06-.94 2.06-2.06.94zm-11 1L8.5 8.5l.94-2.06 2.06-.94-2.06-.94L8.5 2.5l-.94 2.06-2.06.94zm10 10l.94 2.06.94-2.06 2.06-.94-2.06-.94-.94-2.06-.94 2.06-2.06.94z\"/><path d=\"M17.41 7.96l-1.37-1.37c-.4-.4-.92-.59-1.43-.59-.52 0-1.04.2-1.43.59L10.3 9.45l-7.72 7.72c-.78.78-.78 2.05 0 2.83L4 21.41c.39.39.9.59 1.41.59.51 0 1.02-.2 1.41-.59l7.78-7.78 2.81-2.81c.8-.78.8-2.07 0-2.86zM5.41 20L4 18.59l7.72-7.72 1.47 1.35L5.41 20z\"/>\n",
              "  </svg>\n",
              "      </button>\n",
              "      \n",
              "  <style>\n",
              "    .colab-df-container {\n",
              "      display:flex;\n",
              "      flex-wrap:wrap;\n",
              "      gap: 12px;\n",
              "    }\n",
              "\n",
              "    .colab-df-convert {\n",
              "      background-color: #E8F0FE;\n",
              "      border: none;\n",
              "      border-radius: 50%;\n",
              "      cursor: pointer;\n",
              "      display: none;\n",
              "      fill: #1967D2;\n",
              "      height: 32px;\n",
              "      padding: 0 0 0 0;\n",
              "      width: 32px;\n",
              "    }\n",
              "\n",
              "    .colab-df-convert:hover {\n",
              "      background-color: #E2EBFA;\n",
              "      box-shadow: 0px 1px 2px rgba(60, 64, 67, 0.3), 0px 1px 3px 1px rgba(60, 64, 67, 0.15);\n",
              "      fill: #174EA6;\n",
              "    }\n",
              "\n",
              "    [theme=dark] .colab-df-convert {\n",
              "      background-color: #3B4455;\n",
              "      fill: #D2E3FC;\n",
              "    }\n",
              "\n",
              "    [theme=dark] .colab-df-convert:hover {\n",
              "      background-color: #434B5C;\n",
              "      box-shadow: 0px 1px 3px 1px rgba(0, 0, 0, 0.15);\n",
              "      filter: drop-shadow(0px 1px 2px rgba(0, 0, 0, 0.3));\n",
              "      fill: #FFFFFF;\n",
              "    }\n",
              "  </style>\n",
              "\n",
              "      <script>\n",
              "        const buttonEl =\n",
              "          document.querySelector('#df-12366959-b10f-4abd-9a18-590353843b3e button.colab-df-convert');\n",
              "        buttonEl.style.display =\n",
              "          google.colab.kernel.accessAllowed ? 'block' : 'none';\n",
              "\n",
              "        async function convertToInteractive(key) {\n",
              "          const element = document.querySelector('#df-12366959-b10f-4abd-9a18-590353843b3e');\n",
              "          const dataTable =\n",
              "            await google.colab.kernel.invokeFunction('convertToInteractive',\n",
              "                                                     [key], {});\n",
              "          if (!dataTable) return;\n",
              "\n",
              "          const docLinkHtml = 'Like what you see? Visit the ' +\n",
              "            '<a target=\"_blank\" href=https://colab.research.google.com/notebooks/data_table.ipynb>data table notebook</a>'\n",
              "            + ' to learn more about interactive tables.';\n",
              "          element.innerHTML = '';\n",
              "          dataTable['output_type'] = 'display_data';\n",
              "          await google.colab.output.renderOutput(dataTable, element);\n",
              "          const docLink = document.createElement('div');\n",
              "          docLink.innerHTML = docLinkHtml;\n",
              "          element.appendChild(docLink);\n",
              "        }\n",
              "      </script>\n",
              "    </div>\n",
              "  </div>\n",
              "  "
            ]
          },
          "metadata": {},
          "execution_count": 7
        }
      ]
    },
    {
      "cell_type": "markdown",
      "source": [
        "**Посмотрим распредение стран с данными о цене БикМака по частям света**"
      ],
      "metadata": {
        "id": "Bt-bWjC2FjKL"
      }
    },
    {
      "cell_type": "code",
      "source": [
        "plt.rcParams ['figure.figsize'] = [15, 5]\n",
        "fig, ax = plt.subplots()\n",
        "\n",
        "ax.bar(country_count['continent'], country_count['country'], width=0.7, edgecolor=\"k\", linewidth=1, color='darkblue')\n",
        "\n",
        "ax.set(xlim=(-1, 7),\n",
        "       ylim=(0, 35))\n",
        "plt.title('Количество стран по частям света', fontsize=14, color='k')\n",
        "plt.ylabel('Количество', fontsize=14, color='k') \n",
        "plt.show()"
      ],
      "metadata": {
        "colab": {
          "base_uri": "https://localhost:8080/",
          "height": 337
        },
        "id": "1eHOMYMVGMfV",
        "outputId": "b6399785-c409-4bd8-eb99-6b34e49dba55"
      },
      "execution_count": null,
      "outputs": [
        {
          "output_type": "display_data",
          "data": {
            "text/plain": [
              "<Figure size 1080x360 with 1 Axes>"
            ],
            "image/png": "[encoded data removed]"
          },
          "metadata": {
            "needs_background": "light"
          }
        }
      ]
    },
    {
      "cell_type": "markdown",
      "source": [
        "Видим, что больше всего данных о цене БикМака в странах Европы, меньше всего в Южной Африке/Океании"
      ],
      "metadata": {
        "id": "0Ixm2YJAIg7k"
      }
    },
    {
      "cell_type": "markdown",
      "source": [
        "**Добавим столбец `year` для группировке по годам**\n"
      ],
      "metadata": {
        "id": "iHjYHJL3Iw5x"
      }
    },
    {
      "cell_type": "code",
      "source": [
        "df['date'] = pd.to_datetime(df['date'])\n",
        "df['year'] = df['date'].dt.year\n",
        "df"
      ],
      "metadata": {
        "colab": {
          "base_uri": "https://localhost:8080/",
          "height": 423
        },
        "id": "hiSjLmmd-IGX",
        "outputId": "da9a374c-2c2d-4ea2-cf48-6fa5e3cfba1c"
      },
      "execution_count": null,
      "outputs": [
        {
          "output_type": "execute_result",
          "data": {
            "text/plain": [
              "           date currency_code               country  local_price  dollar_ex  \\\n",
              "0    2000-04-01           ARS             Argentina         2.50          1   \n",
              "1    2000-04-01           AUD             Australia         2.59          1   \n",
              "2    2000-04-01           BRL                Brazil         2.95          1   \n",
              "3    2000-04-01           GBP               Britain         1.90          1   \n",
              "4    2000-04-01           CAD                Canada         2.85          1   \n",
              "...         ...           ...                   ...          ...        ...   \n",
              "1941 2022-07-01           AED  United Arab Emirates        18.00          3   \n",
              "1942 2022-07-01           USD         United States         5.15          1   \n",
              "1943 2022-07-01           UYU               Uruguay       255.00         41   \n",
              "1944 2022-07-01           VES             Venezuela        10.00          5   \n",
              "1945 2022-07-01           VND               Vietnam     69000.00      23417   \n",
              "\n",
              "      dollar_price          continent  year  \n",
              "0             2.50      South America  2000  \n",
              "1             2.59  Oceania/S. Africa  2000  \n",
              "2             2.95      South America  2000  \n",
              "3             1.90             Europe  2000  \n",
              "4             2.85      North America  2000  \n",
              "...            ...                ...   ...  \n",
              "1941          6.00        Middle East  2022  \n",
              "1942          5.15      North America  2022  \n",
              "1943          6.22      South America  2022  \n",
              "1944          2.00      South America  2022  \n",
              "1945          2.95         South Asia  2022  \n",
              "\n",
              "[1946 rows x 8 columns]"
            ],
            "text/html": [
              "\n",
              "  <div id=\"df-19b627a6-4453-4517-8db5-a48501884979\">\n",
              "    <div class=\"colab-df-container\">\n",
              "      <div>\n",
              "<style scoped>\n",
              "    .dataframe tbody tr th:only-of-type {\n",
              "        vertical-align: middle;\n",
              "    }\n",
              "\n",
              "    .dataframe tbody tr th {\n",
              "        vertical-align: top;\n",
              "    }\n",
              "\n",
              "    .dataframe thead th {\n",
              "        text-align: right;\n",
              "    }\n",
              "</style>\n",
              "<table border=\"1\" class=\"dataframe\">\n",
              "  <thead>\n",
              "    <tr style=\"text-align: right;\">\n",
              "      <th></th>\n",
              "      <th>date</th>\n",
              "      <th>currency_code</th>\n",
              "      <th>country</th>\n",
              "      <th>local_price</th>\n",
              "      <th>dollar_ex</th>\n",
              "      <th>dollar_price</th>\n",
              "      <th>continent</th>\n",
              "      <th>year</th>\n",
              "    </tr>\n",
              "  </thead>\n",
              "  <tbody>\n",
              "    <tr>\n",
              "      <th>0</th>\n",
              "      <td>2000-04-01</td>\n",
              "      <td>ARS</td>\n",
              "      <td>Argentina</td>\n",
              "      <td>2.50</td>\n",
              "      <td>1</td>\n",
              "      <td>2.50</td>\n",
              "      <td>South America</td>\n",
              "      <td>2000</td>\n",
              "    </tr>\n",
              "    <tr>\n",
              "      <th>1</th>\n",
              "      <td>2000-04-01</td>\n",
              "      <td>AUD</td>\n",
              "      <td>Australia</td>\n",
              "      <td>2.59</td>\n",
              "      <td>1</td>\n",
              "      <td>2.59</td>\n",
              "      <td>Oceania/S. Africa</td>\n",
              "      <td>2000</td>\n",
              "    </tr>\n",
              "    <tr>\n",
              "      <th>2</th>\n",
              "      <td>2000-04-01</td>\n",
              "      <td>BRL</td>\n",
              "      <td>Brazil</td>\n",
              "      <td>2.95</td>\n",
              "      <td>1</td>\n",
              "      <td>2.95</td>\n",
              "      <td>South America</td>\n",
              "      <td>2000</td>\n",
              "    </tr>\n",
              "    <tr>\n",
              "      <th>3</th>\n",
              "      <td>2000-04-01</td>\n",
              "      <td>GBP</td>\n",
              "      <td>Britain</td>\n",
              "      <td>1.90</td>\n",
              "      <td>1</td>\n",
              "      <td>1.90</td>\n",
              "      <td>Europe</td>\n",
              "      <td>2000</td>\n",
              "    </tr>\n",
              "    <tr>\n",
              "      <th>4</th>\n",
              "      <td>2000-04-01</td>\n",
              "      <td>CAD</td>\n",
              "      <td>Canada</td>\n",
              "      <td>2.85</td>\n",
              "      <td>1</td>\n",
              "      <td>2.85</td>\n",
              "      <td>North America</td>\n",
              "      <td>2000</td>\n",
              "    </tr>\n",
              "    <tr>\n",
              "      <th>...</th>\n",
              "      <td>...</td>\n",
              "      <td>...</td>\n",
              "      <td>...</td>\n",
              "      <td>...</td>\n",
              "      <td>...</td>\n",
              "      <td>...</td>\n",
              "      <td>...</td>\n",
              "      <td>...</td>\n",
              "    </tr>\n",
              "    <tr>\n",
              "      <th>1941</th>\n",
              "      <td>2022-07-01</td>\n",
              "      <td>AED</td>\n",
              "      <td>United Arab Emirates</td>\n",
              "      <td>18.00</td>\n",
              "      <td>3</td>\n",
              "      <td>6.00</td>\n",
              "      <td>Middle East</td>\n",
              "      <td>2022</td>\n",
              "    </tr>\n",
              "    <tr>\n",
              "      <th>1942</th>\n",
              "      <td>2022-07-01</td>\n",
              "      <td>USD</td>\n",
              "      <td>United States</td>\n",
              "      <td>5.15</td>\n",
              "      <td>1</td>\n",
              "      <td>5.15</td>\n",
              "      <td>North America</td>\n",
              "      <td>2022</td>\n",
              "    </tr>\n",
              "    <tr>\n",
              "      <th>1943</th>\n",
              "      <td>2022-07-01</td>\n",
              "      <td>UYU</td>\n",
              "      <td>Uruguay</td>\n",
              "      <td>255.00</td>\n",
              "      <td>41</td>\n",
              "      <td>6.22</td>\n",
              "      <td>South America</td>\n",
              "      <td>2022</td>\n",
              "    </tr>\n",
              "    <tr>\n",
              "      <th>1944</th>\n",
              "      <td>2022-07-01</td>\n",
              "      <td>VES</td>\n",
              "      <td>Venezuela</td>\n",
              "      <td>10.00</td>\n",
              "      <td>5</td>\n",
              "      <td>2.00</td>\n",
              "      <td>South America</td>\n",
              "      <td>2022</td>\n",
              "    </tr>\n",
              "    <tr>\n",
              "      <th>1945</th>\n",
              "      <td>2022-07-01</td>\n",
              "      <td>VND</td>\n",
              "      <td>Vietnam</td>\n",
              "      <td>69000.00</td>\n",
              "      <td>23417</td>\n",
              "      <td>2.95</td>\n",
              "      <td>South Asia</td>\n",
              "      <td>2022</td>\n",
              "    </tr>\n",
              "  </tbody>\n",
              "</table>\n",
              "<p>1946 rows × 8 columns</p>\n",
              "</div>\n",
              "      <button class=\"colab-df-convert\" onclick=\"convertToInteractive('df-19b627a6-4453-4517-8db5-a48501884979')\"\n",
              "              title=\"Convert this dataframe to an interactive table.\"\n",
              "              style=\"display:none;\">\n",
              "        \n",
              "  <svg xmlns=\"http://www.w3.org/2000/svg\" height=\"24px\"viewBox=\"0 0 24 24\"\n",
              "       width=\"24px\">\n",
              "    <path d=\"M0 0h24v24H0V0z\" fill=\"none\"/>\n",
              "    <path d=\"M18.56 5.44l.94 2.06.94-2.06 2.06-.94-2.06-.94-.94-2.06-.94 2.06-2.06.94zm-11 1L8.5 8.5l.94-2.06 2.06-.94-2.06-.94L8.5 2.5l-.94 2.06-2.06.94zm10 10l.94 2.06.94-2.06 2.06-.94-2.06-.94-.94-2.06-.94 2.06-2.06.94z\"/><path d=\"M17.41 7.96l-1.37-1.37c-.4-.4-.92-.59-1.43-.59-.52 0-1.04.2-1.43.59L10.3 9.45l-7.72 7.72c-.78.78-.78 2.05 0 2.83L4 21.41c.39.39.9.59 1.41.59.51 0 1.02-.2 1.41-.59l7.78-7.78 2.81-2.81c.8-.78.8-2.07 0-2.86zM5.41 20L4 18.59l7.72-7.72 1.47 1.35L5.41 20z\"/>\n",
              "  </svg>\n",
              "      </button>\n",
              "      \n",
              "  <style>\n",
              "    .colab-df-container {\n",
              "      display:flex;\n",
              "      flex-wrap:wrap;\n",
              "      gap: 12px;\n",
              "    }\n",
              "\n",
              "    .colab-df-convert {\n",
              "      background-color: #E8F0FE;\n",
              "      border: none;\n",
              "      border-radius: 50%;\n",
              "      cursor: pointer;\n",
              "      display: none;\n",
              "      fill: #1967D2;\n",
              "      height: 32px;\n",
              "      padding: 0 0 0 0;\n",
              "      width: 32px;\n",
              "    }\n",
              "\n",
              "    .colab-df-convert:hover {\n",
              "      background-color: #E2EBFA;\n",
              "      box-shadow: 0px 1px 2px rgba(60, 64, 67, 0.3), 0px 1px 3px 1px rgba(60, 64, 67, 0.15);\n",
              "      fill: #174EA6;\n",
              "    }\n",
              "\n",
              "    [theme=dark] .colab-df-convert {\n",
              "      background-color: #3B4455;\n",
              "      fill: #D2E3FC;\n",
              "    }\n",
              "\n",
              "    [theme=dark] .colab-df-convert:hover {\n",
              "      background-color: #434B5C;\n",
              "      box-shadow: 0px 1px 3px 1px rgba(0, 0, 0, 0.15);\n",
              "      filter: drop-shadow(0px 1px 2px rgba(0, 0, 0, 0.3));\n",
              "      fill: #FFFFFF;\n",
              "    }\n",
              "  </style>\n",
              "\n",
              "      <script>\n",
              "        const buttonEl =\n",
              "          document.querySelector('#df-19b627a6-4453-4517-8db5-a48501884979 button.colab-df-convert');\n",
              "        buttonEl.style.display =\n",
              "          google.colab.kernel.accessAllowed ? 'block' : 'none';\n",
              "\n",
              "        async function convertToInteractive(key) {\n",
              "          const element = document.querySelector('#df-19b627a6-4453-4517-8db5-a48501884979');\n",
              "          const dataTable =\n",
              "            await google.colab.kernel.invokeFunction('convertToInteractive',\n",
              "                                                     [key], {});\n",
              "          if (!dataTable) return;\n",
              "\n",
              "          const docLinkHtml = 'Like what you see? Visit the ' +\n",
              "            '<a target=\"_blank\" href=https://colab.research.google.com/notebooks/data_table.ipynb>data table notebook</a>'\n",
              "            + ' to learn more about interactive tables.';\n",
              "          element.innerHTML = '';\n",
              "          dataTable['output_type'] = 'display_data';\n",
              "          await google.colab.output.renderOutput(dataTable, element);\n",
              "          const docLink = document.createElement('div');\n",
              "          docLink.innerHTML = docLinkHtml;\n",
              "          element.appendChild(docLink);\n",
              "        }\n",
              "      </script>\n",
              "    </div>\n",
              "  </div>\n",
              "  "
            ]
          },
          "metadata": {},
          "execution_count": 9
        }
      ]
    },
    {
      "cell_type": "markdown",
      "source": [
        "**Сгруппируем данные по средней цене за каждый год**"
      ],
      "metadata": {
        "id": "dtJwhFYbI96m"
      }
    },
    {
      "cell_type": "code",
      "source": [
        "price_by_all_time = df.groupby(['year']).agg({'dollar_price': 'mean'}).reset_index()\n",
        "price_by_all_time.head()"
      ],
      "metadata": {
        "colab": {
          "base_uri": "https://localhost:8080/",
          "height": 206
        },
        "id": "t_xkEemlgKz5",
        "outputId": "538ae489-4581-4989-e916-582f31ec6704"
      },
      "execution_count": null,
      "outputs": [
        {
          "output_type": "execute_result",
          "data": {
            "text/plain": [
              "   year  dollar_price\n",
              "0  2000      2.323929\n",
              "1  2001      2.157143\n",
              "2  2002      2.301212\n",
              "3  2003      2.425312\n",
              "4  2004      2.444000"
            ],
            "text/html": [
              "\n",
              "  <div id=\"df-bcaed70d-7d0b-4c23-b547-2851e02e8b91\">\n",
              "    <div class=\"colab-df-container\">\n",
              "      <div>\n",
              "<style scoped>\n",
              "    .dataframe tbody tr th:only-of-type {\n",
              "        vertical-align: middle;\n",
              "    }\n",
              "\n",
              "    .dataframe tbody tr th {\n",
              "        vertical-align: top;\n",
              "    }\n",
              "\n",
              "    .dataframe thead th {\n",
              "        text-align: right;\n",
              "    }\n",
              "</style>\n",
              "<table border=\"1\" class=\"dataframe\">\n",
              "  <thead>\n",
              "    <tr style=\"text-align: right;\">\n",
              "      <th></th>\n",
              "      <th>year</th>\n",
              "      <th>dollar_price</th>\n",
              "    </tr>\n",
              "  </thead>\n",
              "  <tbody>\n",
              "    <tr>\n",
              "      <th>0</th>\n",
              "      <td>2000</td>\n",
              "      <td>2.323929</td>\n",
              "    </tr>\n",
              "    <tr>\n",
              "      <th>1</th>\n",
              "      <td>2001</td>\n",
              "      <td>2.157143</td>\n",
              "    </tr>\n",
              "    <tr>\n",
              "      <th>2</th>\n",
              "      <td>2002</td>\n",
              "      <td>2.301212</td>\n",
              "    </tr>\n",
              "    <tr>\n",
              "      <th>3</th>\n",
              "      <td>2003</td>\n",
              "      <td>2.425312</td>\n",
              "    </tr>\n",
              "    <tr>\n",
              "      <th>4</th>\n",
              "      <td>2004</td>\n",
              "      <td>2.444000</td>\n",
              "    </tr>\n",
              "  </tbody>\n",
              "</table>\n",
              "</div>\n",
              "      <button class=\"colab-df-convert\" onclick=\"convertToInteractive('df-bcaed70d-7d0b-4c23-b547-2851e02e8b91')\"\n",
              "              title=\"Convert this dataframe to an interactive table.\"\n",
              "              style=\"display:none;\">\n",
              "        \n",
              "  <svg xmlns=\"http://www.w3.org/2000/svg\" height=\"24px\"viewBox=\"0 0 24 24\"\n",
              "       width=\"24px\">\n",
              "    <path d=\"M0 0h24v24H0V0z\" fill=\"none\"/>\n",
              "    <path d=\"M18.56 5.44l.94 2.06.94-2.06 2.06-.94-2.06-.94-.94-2.06-.94 2.06-2.06.94zm-11 1L8.5 8.5l.94-2.06 2.06-.94-2.06-.94L8.5 2.5l-.94 2.06-2.06.94zm10 10l.94 2.06.94-2.06 2.06-.94-2.06-.94-.94-2.06-.94 2.06-2.06.94z\"/><path d=\"M17.41 7.96l-1.37-1.37c-.4-.4-.92-.59-1.43-.59-.52 0-1.04.2-1.43.59L10.3 9.45l-7.72 7.72c-.78.78-.78 2.05 0 2.83L4 21.41c.39.39.9.59 1.41.59.51 0 1.02-.2 1.41-.59l7.78-7.78 2.81-2.81c.8-.78.8-2.07 0-2.86zM5.41 20L4 18.59l7.72-7.72 1.47 1.35L5.41 20z\"/>\n",
              "  </svg>\n",
              "      </button>\n",
              "      \n",
              "  <style>\n",
              "    .colab-df-container {\n",
              "      display:flex;\n",
              "      flex-wrap:wrap;\n",
              "      gap: 12px;\n",
              "    }\n",
              "\n",
              "    .colab-df-convert {\n",
              "      background-color: #E8F0FE;\n",
              "      border: none;\n",
              "      border-radius: 50%;\n",
              "      cursor: pointer;\n",
              "      display: none;\n",
              "      fill: #1967D2;\n",
              "      height: 32px;\n",
              "      padding: 0 0 0 0;\n",
              "      width: 32px;\n",
              "    }\n",
              "\n",
              "    .colab-df-convert:hover {\n",
              "      background-color: #E2EBFA;\n",
              "      box-shadow: 0px 1px 2px rgba(60, 64, 67, 0.3), 0px 1px 3px 1px rgba(60, 64, 67, 0.15);\n",
              "      fill: #174EA6;\n",
              "    }\n",
              "\n",
              "    [theme=dark] .colab-df-convert {\n",
              "      background-color: #3B4455;\n",
              "      fill: #D2E3FC;\n",
              "    }\n",
              "\n",
              "    [theme=dark] .colab-df-convert:hover {\n",
              "      background-color: #434B5C;\n",
              "      box-shadow: 0px 1px 3px 1px rgba(0, 0, 0, 0.15);\n",
              "      filter: drop-shadow(0px 1px 2px rgba(0, 0, 0, 0.3));\n",
              "      fill: #FFFFFF;\n",
              "    }\n",
              "  </style>\n",
              "\n",
              "      <script>\n",
              "        const buttonEl =\n",
              "          document.querySelector('#df-bcaed70d-7d0b-4c23-b547-2851e02e8b91 button.colab-df-convert');\n",
              "        buttonEl.style.display =\n",
              "          google.colab.kernel.accessAllowed ? 'block' : 'none';\n",
              "\n",
              "        async function convertToInteractive(key) {\n",
              "          const element = document.querySelector('#df-bcaed70d-7d0b-4c23-b547-2851e02e8b91');\n",
              "          const dataTable =\n",
              "            await google.colab.kernel.invokeFunction('convertToInteractive',\n",
              "                                                     [key], {});\n",
              "          if (!dataTable) return;\n",
              "\n",
              "          const docLinkHtml = 'Like what you see? Visit the ' +\n",
              "            '<a target=\"_blank\" href=https://colab.research.google.com/notebooks/data_table.ipynb>data table notebook</a>'\n",
              "            + ' to learn more about interactive tables.';\n",
              "          element.innerHTML = '';\n",
              "          dataTable['output_type'] = 'display_data';\n",
              "          await google.colab.output.renderOutput(dataTable, element);\n",
              "          const docLink = document.createElement('div');\n",
              "          docLink.innerHTML = docLinkHtml;\n",
              "          element.appendChild(docLink);\n",
              "        }\n",
              "      </script>\n",
              "    </div>\n",
              "  </div>\n",
              "  "
            ]
          },
          "metadata": {},
          "execution_count": 10
        }
      ]
    },
    {
      "cell_type": "markdown",
      "source": [
        "**Построим график динамики цены за всё время во всех странах**"
      ],
      "metadata": {
        "id": "ePzKCZseJFu9"
      }
    },
    {
      "cell_type": "code",
      "source": [
        "plt.rcParams ['figure.figsize'] = [15, 5]\n",
        "plt.plot(price_by_all_time['year'], price_by_all_time['dollar_price'], color='r', marker='.', linestyle='-.', linewidth=1, markersize=8)\n",
        "plt.title('Динамика цены БикМака в мире', fontsize=14, color='k')\n",
        "plt.xlabel('Год', fontsize=14, color='k')\n",
        "plt.ylabel('Стоимость, $', fontsize=14, color='k') \n",
        "plt.legend(price_by_all_time, loc='upper left')\n",
        "plt.xticks(price_by_all_time['year'])\n",
        "plt.grid(True) \n",
        "plt.show()"
      ],
      "metadata": {
        "colab": {
          "base_uri": "https://localhost:8080/",
          "height": 355
        },
        "id": "PZuFXNBjwsXf",
        "outputId": "a37df0ba-36c0-4cb5-de3c-829e6d467059"
      },
      "execution_count": null,
      "outputs": [
        {
          "output_type": "display_data",
          "data": {
            "text/plain": [
              "<Figure size 1080x360 with 1 Axes>"
            ],
            "image/png": "[encoded data removed]"
          },
          "metadata": {
            "needs_background": "light"
          }
        }
      ]
    },
    {
      "cell_type": "markdown",
      "source": [
        "Видим, что за 22 года в целом цена выросла практически в два раза. До 2007 года подъём был достаточно плавным. В 2008 рост был выше, чем в предыдущие годы. В 2011 и в 2013 годах был пик цены с последующим небольшим падением, но к 2022 году цена вновь приблизилась к отметке 4$."
      ],
      "metadata": {
        "id": "vK9ooUrYEAe3"
      }
    },
    {
      "cell_type": "markdown",
      "source": [
        "**Сравним цены на БикМак в различных частях света за все время**"
      ],
      "metadata": {
        "id": "Ffc4KXa9cOPZ"
      }
    },
    {
      "cell_type": "code",
      "source": [
        "plt.figure(figsize=(15, 10))\n",
        "boxplot = sns.boxplot(x=df[\"continent\"], y=df[\"dollar_price\"], palette=sns.color_palette('bright'))\n",
        "boxplot.axes.set_title(\"Распределение цены в долларовом эквиваленте\", fontsize=16)\n",
        "boxplot.set_xlabel(\"Части света\", fontsize=14)\n",
        "boxplot.set_ylabel(\"Цена, $\", fontsize=14);"
      ],
      "metadata": {
        "colab": {
          "base_uri": "https://localhost:8080/",
          "height": 627
        },
        "id": "aOEgJQs5Q9vK",
        "outputId": "3aad019b-0d35-41be-eff4-015482b7bbd7"
      },
      "execution_count": null,
      "outputs": [
        {
          "output_type": "display_data",
          "data": {
            "text/plain": [
              "<Figure size 1080x720 with 1 Axes>"
            ],
            "image/png": "[encoded data removed]"
          },
          "metadata": {
            "needs_background": "light"
          }
        }
      ]
    },
    {
      "cell_type": "markdown",
      "source": [
        "Видим, что самая высокая средняя цена в Океании/Южной Африке, однако по странам Европы и Южной Америки разброс цен выше, видимо встречаются страны с как с аномально низкой, так и аномально высокой ценой БикМака"
      ],
      "metadata": {
        "id": "dq4meycGcvWG"
      }
    },
    {
      "cell_type": "markdown",
      "source": [
        "**Создадим датафрейм, содержащий данные только по России**"
      ],
      "metadata": {
        "id": "vqAGtZbU5CUf"
      }
    },
    {
      "cell_type": "code",
      "source": [
        "df_rus = df[df['country'] == 'Russia']\n",
        "df_rus.head()"
      ],
      "metadata": {
        "colab": {
          "base_uri": "https://localhost:8080/",
          "height": 206
        },
        "id": "BUlAFF8s5GSd",
        "outputId": "c3b69c94-12c2-4a0c-ab61-517f2b99027d"
      },
      "execution_count": null,
      "outputs": [
        {
          "output_type": "execute_result",
          "data": {
            "text/plain": [
              "          date currency_code country  local_price  dollar_ex  dollar_price  \\\n",
              "19  2000-04-01           RUB  Russia         39.5         28          1.41   \n",
              "47  2001-04-01           RUB  Russia         35.0         28          1.25   \n",
              "78  2002-04-01           RUB  Russia         39.0         31          1.26   \n",
              "110 2003-04-01           RUB  Russia         41.0         31          1.32   \n",
              "146 2004-05-01           RUB  Russia         42.0         29          1.45   \n",
              "\n",
              "    continent  year  \n",
              "19     Europe  2000  \n",
              "47     Europe  2001  \n",
              "78     Europe  2002  \n",
              "110    Europe  2003  \n",
              "146    Europe  2004  "
            ],
            "text/html": [
              "\n",
              "  <div id=\"df-9249fbf0-eded-4f05-8655-1f74fa1870b5\">\n",
              "    <div class=\"colab-df-container\">\n",
              "      <div>\n",
              "<style scoped>\n",
              "    .dataframe tbody tr th:only-of-type {\n",
              "        vertical-align: middle;\n",
              "    }\n",
              "\n",
              "    .dataframe tbody tr th {\n",
              "        vertical-align: top;\n",
              "    }\n",
              "\n",
              "    .dataframe thead th {\n",
              "        text-align: right;\n",
              "    }\n",
              "</style>\n",
              "<table border=\"1\" class=\"dataframe\">\n",
              "  <thead>\n",
              "    <tr style=\"text-align: right;\">\n",
              "      <th></th>\n",
              "      <th>date</th>\n",
              "      <th>currency_code</th>\n",
              "      <th>country</th>\n",
              "      <th>local_price</th>\n",
              "      <th>dollar_ex</th>\n",
              "      <th>dollar_price</th>\n",
              "      <th>continent</th>\n",
              "      <th>year</th>\n",
              "    </tr>\n",
              "  </thead>\n",
              "  <tbody>\n",
              "    <tr>\n",
              "      <th>19</th>\n",
              "      <td>2000-04-01</td>\n",
              "      <td>RUB</td>\n",
              "      <td>Russia</td>\n",
              "      <td>39.5</td>\n",
              "      <td>28</td>\n",
              "      <td>1.41</td>\n",
              "      <td>Europe</td>\n",
              "      <td>2000</td>\n",
              "    </tr>\n",
              "    <tr>\n",
              "      <th>47</th>\n",
              "      <td>2001-04-01</td>\n",
              "      <td>RUB</td>\n",
              "      <td>Russia</td>\n",
              "      <td>35.0</td>\n",
              "      <td>28</td>\n",
              "      <td>1.25</td>\n",
              "      <td>Europe</td>\n",
              "      <td>2001</td>\n",
              "    </tr>\n",
              "    <tr>\n",
              "      <th>78</th>\n",
              "      <td>2002-04-01</td>\n",
              "      <td>RUB</td>\n",
              "      <td>Russia</td>\n",
              "      <td>39.0</td>\n",
              "      <td>31</td>\n",
              "      <td>1.26</td>\n",
              "      <td>Europe</td>\n",
              "      <td>2002</td>\n",
              "    </tr>\n",
              "    <tr>\n",
              "      <th>110</th>\n",
              "      <td>2003-04-01</td>\n",
              "      <td>RUB</td>\n",
              "      <td>Russia</td>\n",
              "      <td>41.0</td>\n",
              "      <td>31</td>\n",
              "      <td>1.32</td>\n",
              "      <td>Europe</td>\n",
              "      <td>2003</td>\n",
              "    </tr>\n",
              "    <tr>\n",
              "      <th>146</th>\n",
              "      <td>2004-05-01</td>\n",
              "      <td>RUB</td>\n",
              "      <td>Russia</td>\n",
              "      <td>42.0</td>\n",
              "      <td>29</td>\n",
              "      <td>1.45</td>\n",
              "      <td>Europe</td>\n",
              "      <td>2004</td>\n",
              "    </tr>\n",
              "  </tbody>\n",
              "</table>\n",
              "</div>\n",
              "      <button class=\"colab-df-convert\" onclick=\"convertToInteractive('df-9249fbf0-eded-4f05-8655-1f74fa1870b5')\"\n",
              "              title=\"Convert this dataframe to an interactive table.\"\n",
              "              style=\"display:none;\">\n",
              "        \n",
              "  <svg xmlns=\"http://www.w3.org/2000/svg\" height=\"24px\"viewBox=\"0 0 24 24\"\n",
              "       width=\"24px\">\n",
              "    <path d=\"M0 0h24v24H0V0z\" fill=\"none\"/>\n",
              "    <path d=\"M18.56 5.44l.94 2.06.94-2.06 2.06-.94-2.06-.94-.94-2.06-.94 2.06-2.06.94zm-11 1L8.5 8.5l.94-2.06 2.06-.94-2.06-.94L8.5 2.5l-.94 2.06-2.06.94zm10 10l.94 2.06.94-2.06 2.06-.94-2.06-.94-.94-2.06-.94 2.06-2.06.94z\"/><path d=\"M17.41 7.96l-1.37-1.37c-.4-.4-.92-.59-1.43-.59-.52 0-1.04.2-1.43.59L10.3 9.45l-7.72 7.72c-.78.78-.78 2.05 0 2.83L4 21.41c.39.39.9.59 1.41.59.51 0 1.02-.2 1.41-.59l7.78-7.78 2.81-2.81c.8-.78.8-2.07 0-2.86zM5.41 20L4 18.59l7.72-7.72 1.47 1.35L5.41 20z\"/>\n",
              "  </svg>\n",
              "      </button>\n",
              "      \n",
              "  <style>\n",
              "    .colab-df-container {\n",
              "      display:flex;\n",
              "      flex-wrap:wrap;\n",
              "      gap: 12px;\n",
              "    }\n",
              "\n",
              "    .colab-df-convert {\n",
              "      background-color: #E8F0FE;\n",
              "      border: none;\n",
              "      border-radius: 50%;\n",
              "      cursor: pointer;\n",
              "      display: none;\n",
              "      fill: #1967D2;\n",
              "      height: 32px;\n",
              "      padding: 0 0 0 0;\n",
              "      width: 32px;\n",
              "    }\n",
              "\n",
              "    .colab-df-convert:hover {\n",
              "      background-color: #E2EBFA;\n",
              "      box-shadow: 0px 1px 2px rgba(60, 64, 67, 0.3), 0px 1px 3px 1px rgba(60, 64, 67, 0.15);\n",
              "      fill: #174EA6;\n",
              "    }\n",
              "\n",
              "    [theme=dark] .colab-df-convert {\n",
              "      background-color: #3B4455;\n",
              "      fill: #D2E3FC;\n",
              "    }\n",
              "\n",
              "    [theme=dark] .colab-df-convert:hover {\n",
              "      background-color: #434B5C;\n",
              "      box-shadow: 0px 1px 3px 1px rgba(0, 0, 0, 0.15);\n",
              "      filter: drop-shadow(0px 1px 2px rgba(0, 0, 0, 0.3));\n",
              "      fill: #FFFFFF;\n",
              "    }\n",
              "  </style>\n",
              "\n",
              "      <script>\n",
              "        const buttonEl =\n",
              "          document.querySelector('#df-9249fbf0-eded-4f05-8655-1f74fa1870b5 button.colab-df-convert');\n",
              "        buttonEl.style.display =\n",
              "          google.colab.kernel.accessAllowed ? 'block' : 'none';\n",
              "\n",
              "        async function convertToInteractive(key) {\n",
              "          const element = document.querySelector('#df-9249fbf0-eded-4f05-8655-1f74fa1870b5');\n",
              "          const dataTable =\n",
              "            await google.colab.kernel.invokeFunction('convertToInteractive',\n",
              "                                                     [key], {});\n",
              "          if (!dataTable) return;\n",
              "\n",
              "          const docLinkHtml = 'Like what you see? Visit the ' +\n",
              "            '<a target=\"_blank\" href=https://colab.research.google.com/notebooks/data_table.ipynb>data table notebook</a>'\n",
              "            + ' to learn more about interactive tables.';\n",
              "          element.innerHTML = '';\n",
              "          dataTable['output_type'] = 'display_data';\n",
              "          await google.colab.output.renderOutput(dataTable, element);\n",
              "          const docLink = document.createElement('div');\n",
              "          docLink.innerHTML = docLinkHtml;\n",
              "          element.appendChild(docLink);\n",
              "        }\n",
              "      </script>\n",
              "    </div>\n",
              "  </div>\n",
              "  "
            ]
          },
          "metadata": {},
          "execution_count": 13
        }
      ]
    },
    {
      "cell_type": "markdown",
      "source": [
        "**Посмотрим, как изменялась цена БикМака в России в рублях, и как в долларовом эквиваленте**"
      ],
      "metadata": {
        "id": "KesQYyoVOOnL"
      }
    },
    {
      "cell_type": "code",
      "source": [
        "plt.rcParams ['figure.figsize'] = [15, 5]\n",
        "plt.step(df_rus['year'], df_rus['dollar_price'], linewidth=2.5, color='g')\n",
        "plt.step(df_rus['year'], df_rus['local_price'], linewidth=2.5, color='r')\n",
        "plt.text(2000, 50, 'В рублях', fontsize=14, color='r')\n",
        "plt.text(2000, 10, 'В долларовом эквиваленте', fontsize=14, color='g')\n",
        "plt.xticks(df_rus['year'])\n",
        "plt.grid(True) \n",
        "plt.title('Динамика цены БикМака в России', fontsize=14, color='k')\n",
        "plt.xlabel('Год', fontsize=14, color='k')\n",
        "plt.ylabel('Стоимость', fontsize=14, color='k') \n",
        "plt.show()"
      ],
      "metadata": {
        "colab": {
          "base_uri": "https://localhost:8080/",
          "height": 355
        },
        "id": "bfev30XlJbZQ",
        "outputId": "79a94409-e6cf-4cde-a91d-0c2653dc2550"
      },
      "execution_count": null,
      "outputs": [
        {
          "output_type": "display_data",
          "data": {
            "text/plain": [
              "<Figure size 1080x360 with 1 Axes>"
            ],
            "image/png": "[encoded data removed]"
          },
          "metadata": {
            "needs_background": "light"
          }
        }
      ]
    },
    {
      "cell_type": "markdown",
      "source": [
        "Видим, что стоимость в рублях значительно выросла, но в пересчете на долларовый эквивалент практически не изменилась."
      ],
      "metadata": {
        "id": "rbfTJ-PR5Rjg"
      }
    },
    {
      "cell_type": "markdown",
      "source": [
        "**Посмотрим на распределение цены в долларовом эквиваленте в разрезе континентов по годам**"
      ],
      "metadata": {
        "id": "OKvu-pPGYoJy"
      }
    },
    {
      "cell_type": "code",
      "source": [
        "mean_price_continent = df.pivot_table(\n",
        "                        index='year', \n",
        "                        columns='continent', \n",
        "                        values='dollar_price', \n",
        "                        aggfunc='mean')\n",
        "fig, ax = plt.subplots(figsize=(15, 10))\n",
        "sns.heatmap(mean_price_continent, linewidths= .3, cmap=sns.color_palette(\"coolwarm\", as_cmap=True))"
      ],
      "metadata": {
        "colab": {
          "base_uri": "https://localhost:8080/",
          "height": 623
        },
        "id": "vcXdaS0lsu4c",
        "outputId": "678fd5f4-4294-49fa-eee5-71bb458d06a5"
      },
      "execution_count": null,
      "outputs": [
        {
          "output_type": "execute_result",
          "data": {
            "text/plain": [
              "<matplotlib.axes._subplots.AxesSubplot at 0x7f97173f5af0>"
            ]
          },
          "metadata": {},
          "execution_count": 15
        },
        {
          "output_type": "display_data",
          "data": {
            "text/plain": [
              "<Figure size 1080x720 with 2 Axes>"
            ],
            "image/png": "[encoded data removed]"
          },
          "metadata": {
            "needs_background": "light"
          }
        }
      ]
    },
    {
      "cell_type": "markdown",
      "source": [
        "По тепловой карте явно видно, что в Восточной и Южной Азии цена держалась на примерно одной отметке, а рост за всё время незначительный.\n",
        "\n",
        "В Северной Америке и Южной Арфике/Океании цена за все время плавно росла.\n",
        "\n",
        "В Южной Америке в 2011-2014 годах было резкое увеличение цены, которое в дальнейшем частично откотилось и сейчас держится на уровне 2009 года.\n",
        "\n",
        "На Ближнем Востоке был похожий скачок в 2009-2017 годах, который был не на столько выражен, как в Южной Америке, но цена так же откатилась к отметке 2009 года.\n",
        "\n",
        "Также, в Европе и Южной Арфике/Океании можно отметить, что рост цены достаточно плавный."
      ],
      "metadata": {
        "id": "m9sxmGJvWZT8"
      }
    },
    {
      "cell_type": "markdown",
      "source": [
        "**Посмотрим, как связаны цены между континентами**"
      ],
      "metadata": {
        "id": "cdtQOK-xc4Cf"
      }
    },
    {
      "cell_type": "code",
      "source": [
        "price_continent = df.pivot_table(\n",
        "                        index='year', \n",
        "                        columns='continent', \n",
        "                        values='dollar_price', \n",
        "                        aggfunc='mean')\n",
        "sns.pairplot(price_continent)"
      ],
      "metadata": {
        "colab": {
          "base_uri": "https://localhost:8080/",
          "height": 1000
        },
        "id": "pihHvnfbYku1",
        "outputId": "ff1f9d05-1a9c-49ad-9305-cee63f0a1b29"
      },
      "execution_count": null,
      "outputs": [
        {
          "output_type": "execute_result",
          "data": {
            "text/plain": [
              "<seaborn.axisgrid.PairGrid at 0x7f9717703490>"
            ]
          },
          "metadata": {},
          "execution_count": 16
        },
        {
          "output_type": "display_data",
          "data": {
            "text/plain": [
              "<Figure size 1260x1260 with 56 Axes>"
            ],
            "image/png": "[encoded data removed]"
          },
          "metadata": {
            "needs_background": "light"
          }
        }
      ]
    }
  ]
}